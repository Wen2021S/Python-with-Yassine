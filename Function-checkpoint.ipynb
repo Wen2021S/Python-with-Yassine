{
 "cells": [
  {
   "cell_type": "markdown",
   "id": "a7560bf4",
   "metadata": {},
   "source": [
    "## Function"
   ]
  },
  {
   "cell_type": "code",
   "execution_count": 1,
   "id": "8a1c961b",
   "metadata": {},
   "outputs": [],
   "source": [
    "def greetings():\n",
    "    print(\"Hello, everybody\")"
   ]
  },
  {
   "cell_type": "code",
   "execution_count": 2,
   "id": "36b14f84",
   "metadata": {},
   "outputs": [
    {
     "name": "stdout",
     "output_type": "stream",
     "text": [
      "Hello, everybody\n"
     ]
    }
   ],
   "source": [
    "greetings()"
   ]
  },
  {
   "cell_type": "code",
   "execution_count": 3,
   "id": "5135421e",
   "metadata": {},
   "outputs": [],
   "source": [
    "def personalized_greeting(name):\n",
    "    \"\"\"\n",
    "    print a personalized greeting using name\n",
    "    name : string\n",
    "    \"\"\"\n",
    "    print(f\"hello {name}\")"
   ]
  },
  {
   "cell_type": "code",
   "execution_count": 7,
   "id": "813aa08d",
   "metadata": {},
   "outputs": [
    {
     "name": "stdout",
     "output_type": "stream",
     "text": [
      "hello Wen\n"
     ]
    }
   ],
   "source": [
    "personalized_greeting(\"Wen\")"
   ]
  },
  {
   "cell_type": "code",
   "execution_count": 19,
   "id": "f4a65d01",
   "metadata": {},
   "outputs": [],
   "source": [
    "def my_sum(a:int,b:int)->int:\n",
    "    \"\"\"\n",
    "    computes the sum of 2 elements a and b\n",
    "    a : first number \n",
    "    b: second number\n",
    "    \"\"\"\n",
    "    s = None\n",
    "    if isinstance(a,int) and isinstance(b,int):\n",
    "        s = a+b\n",
    "    else:\n",
    "        print(\"integers are needed \")\n",
    "    return s"
   ]
  },
  {
   "cell_type": "code",
   "execution_count": 20,
   "id": "026d565f",
   "metadata": {},
   "outputs": [
    {
     "data": {
      "text/plain": [
       "3"
      ]
     },
     "execution_count": 20,
     "metadata": {},
     "output_type": "execute_result"
    }
   ],
   "source": [
    "my_sum(1,2)"
   ]
  },
  {
   "cell_type": "code",
   "execution_count": 21,
   "id": "cbf45ade",
   "metadata": {},
   "outputs": [
    {
     "name": "stdout",
     "output_type": "stream",
     "text": [
      "integers are needed \n"
     ]
    }
   ],
   "source": [
    "my_sum(\"a\",\"b\")"
   ]
  },
  {
   "cell_type": "code",
   "execution_count": 22,
   "id": "73842ad1",
   "metadata": {},
   "outputs": [],
   "source": [
    "l = [14,54,78,\"World\",[14,5],{\"name\":\"Bob\"}]"
   ]
  },
  {
   "cell_type": "code",
   "execution_count": 23,
   "id": "5a68763b",
   "metadata": {},
   "outputs": [],
   "source": [
    "# write a function that takes a list as a parameter and returns the sum of the list, if not return 0"
   ]
  },
  {
   "cell_type": "code",
   "execution_count": 34,
   "id": "55e7b060",
   "metadata": {},
   "outputs": [],
   "source": [
    "def compute_sum(l):\n",
    "    s = 0\n",
    "    for i in range(len(l)):\n",
    "        if isinstance(l[i],(int,float)):\n",
    "            s = s + l[i]\n",
    "    return s\n",
    "       "
   ]
  },
  {
   "cell_type": "code",
   "execution_count": 35,
   "id": "ecb56545",
   "metadata": {},
   "outputs": [
    {
     "data": {
      "text/plain": [
       "146"
      ]
     },
     "execution_count": 35,
     "metadata": {},
     "output_type": "execute_result"
    }
   ],
   "source": [
    "compute_sum(l)"
   ]
  },
  {
   "cell_type": "code",
   "execution_count": 41,
   "id": "b1157c64",
   "metadata": {},
   "outputs": [],
   "source": [
    "def addition(l):\n",
    "    return sum([i for i in l if isinstance(i,(int,float))])"
   ]
  },
  {
   "cell_type": "code",
   "execution_count": 42,
   "id": "8a7ab44c",
   "metadata": {},
   "outputs": [
    {
     "data": {
      "text/plain": [
       "146"
      ]
     },
     "execution_count": 42,
     "metadata": {},
     "output_type": "execute_result"
    }
   ],
   "source": [
    "addition(l)"
   ]
  },
  {
   "cell_type": "code",
   "execution_count": 46,
   "id": "cdee22ea",
   "metadata": {},
   "outputs": [
    {
     "data": {
      "text/plain": [
       "146"
      ]
     },
     "execution_count": 46,
     "metadata": {},
     "output_type": "execute_result"
    }
   ],
   "source": [
    "sum([i for i in l if isinstance(i,(int,float))])"
   ]
  },
  {
   "cell_type": "code",
   "execution_count": 49,
   "id": "ecd518f4",
   "metadata": {},
   "outputs": [],
   "source": [
    "# check if a string is a palandrom"
   ]
  },
  {
   "cell_type": "code",
   "execution_count": 87,
   "id": "e85e7e18",
   "metadata": {},
   "outputs": [
    {
     "name": "stdout",
     "output_type": "stream",
     "text": [
      "The string is a palindrome.\n"
     ]
    }
   ],
   "source": [
    "my_str = 'aIbohPhoBiA'\n",
    "my_str = my_str.casefold()\n",
    "rev_str = reversed(my_str)\n",
    "if list(my_str) == list(rev_str):\n",
    "   print(\"The string is a palindrome.\")\n",
    "else:\n",
    "   print(\"The string is not a palindrome.\")"
   ]
  },
  {
   "cell_type": "code",
   "execution_count": null,
   "id": "34ca0ff5",
   "metadata": {},
   "outputs": [],
   "source": []
  },
  {
   "cell_type": "code",
   "execution_count": null,
   "id": "33abe287",
   "metadata": {},
   "outputs": [],
   "source": []
  }
 ],
 "metadata": {
  "kernelspec": {
   "display_name": "Python 3",
   "language": "python",
   "name": "python3"
  },
  "language_info": {
   "codemirror_mode": {
    "name": "ipython",
    "version": 3
   },
   "file_extension": ".py",
   "mimetype": "text/x-python",
   "name": "python",
   "nbconvert_exporter": "python",
   "pygments_lexer": "ipython3",
   "version": "3.8.9"
  }
 },
 "nbformat": 4,
 "nbformat_minor": 5
}
